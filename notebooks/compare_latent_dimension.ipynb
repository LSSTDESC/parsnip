{
 "cells": [
  {
   "cell_type": "markdown",
   "metadata": {},
   "source": [
    "# ParSNIP latent dimension size\n",
    "\n",
    "In this notebook, we compare the results of the ParSNIP model when trained with a range of different latent dimension sizes. For each latent dimension size we trained three separate models on the PS1 dataset. We calculate the loss function for each of these models on both the PS1 training and test datasets and use this to determine how many dimensions are necessary/useful."
   ]
  },
  {
   "cell_type": "markdown",
   "metadata": {},
   "source": [
    "# Load the dataset"
   ]
  },
  {
   "cell_type": "code",
   "execution_count": 1,
   "metadata": {},
   "outputs": [],
   "source": [
    "import numpy as np\n",
    "from matplotlib import pyplot as plt\n",
    "\n",
    "import parsnip"
   ]
  },
  {
   "cell_type": "code",
   "execution_count": 2,
   "metadata": {},
   "outputs": [
    {
     "name": "stdout",
     "output_type": "stream",
     "text": [
      "Parsing 'ps1.h5' as PanSTARRS dataset ...\n",
      "Preprocessing dataset: 100%|██████████| 2885/2885 [00:02<00:00, 1094.12it/s]\n",
      "CPU times: user 4.36 s, sys: 376 ms, total: 4.74 s\n",
      "Wall time: 3.82 s\n"
     ]
    }
   ],
   "source": [
    "%%time\n",
    "# Load the dataset\n",
    "dataset = parsnip.load_dataset('../data/ps1.h5')\n",
    "\n",
    "# Preprocess it\n",
    "base_model = parsnip.load_model('../models/parsnip_ps1.pt')\n",
    "dataset = base_model.preprocess(dataset)\n",
    "\n",
    "# Split into train/test\n",
    "train_dataset, test_dataset = parsnip.split_train_test(dataset)"
   ]
  },
  {
   "cell_type": "markdown",
   "metadata": {},
   "source": [
    "# Score the dataset with a series of models trained with different latent sizes."
   ]
  },
  {
   "cell_type": "code",
   "execution_count": 3,
   "metadata": {},
   "outputs": [
    {
     "name": "stdout",
     "output_type": "stream",
     "text": [
      "Dimension 1:\n",
      "    Model #1: train=63.61, test=77.52\n",
      "    Model #2: train=62.58, test=80.70\n",
      "    Model #3: train=63.08, test=79.65\n",
      "\n",
      "Dimension 2:\n",
      "    Model #1: train=59.51, test=74.15\n",
      "    Model #2: train=59.19, test=73.48\n",
      "    Model #3: train=59.23, test=72.21\n",
      "\n",
      "Dimension 3:\n",
      "    Model #1: train=58.20, test=71.60\n",
      "    Model #2: train=58.46, test=71.78\n",
      "    Model #3: train=58.27, test=72.92\n",
      "\n",
      "Dimension 4:\n",
      "    Model #1: train=59.24, test=71.67\n",
      "    Model #2: train=58.15, test=71.87\n",
      "    Model #3: train=58.47, test=72.86\n",
      "\n",
      "Dimension 5:\n",
      "    Model #1: train=58.76, test=72.37\n",
      "    Model #2: train=58.28, test=72.79\n",
      "    Model #3: train=58.50, test=71.44\n",
      "\n",
      "Dimension 6:\n",
      "    Model #1: train=58.29, test=72.49\n",
      "    Model #2: train=58.97, test=72.00\n",
      "    Model #3: train=58.72, test=72.65\n",
      "\n",
      "Dimension 7:\n",
      "    Model #1: train=58.05, test=71.86\n",
      "    Model #2: train=59.18, test=72.54\n",
      "    Model #3: train=58.78, test=72.49\n",
      "\n",
      "Dimension 8:\n",
      "    Model #1: train=58.68, test=71.27\n",
      "    Model #2: train=58.54, test=72.11\n",
      "    Model #3: train=58.18, test=71.78\n",
      "\n",
      "Dimension 9:\n",
      "    Model #1: train=58.34, test=73.77\n",
      "    Model #2: train=58.90, test=73.51\n",
      "    Model #3: train=58.93, test=71.81\n",
      "\n",
      "Dimension 10:\n",
      "    Model #1: train=58.16, test=72.39\n",
      "    Model #2: train=58.26, test=72.30\n",
      "    Model #3: train=59.03, test=72.38\n",
      "\n"
     ]
    }
   ],
   "source": [
    "train_scores = []\n",
    "test_scores = []\n",
    "latent_sizes = []\n",
    "\n",
    "base_rounds = 10\n",
    "\n",
    "for latent_size in range(1, 11):\n",
    "    size_train_scores = []\n",
    "    size_test_scores = []\n",
    "    print(f'Dimension {latent_size}:')\n",
    "    for model_idx in range(1, 4):\n",
    "        model = parsnip.load_model(f'../models/latent_{latent_size}_{model_idx}.pt', device='cuda')\n",
    "\n",
    "        train_score = model.score(train_dataset, rounds=base_rounds, return_components=True)\n",
    "        test_score = model.score(test_dataset, rounds=10 * base_rounds, return_components=True)\n",
    "\n",
    "        print(f'    Model #{model_idx}: train={np.sum(train_score):.2f}, test={np.sum(test_score):.2f}')\n",
    "\n",
    "        size_train_scores.append(train_score)\n",
    "        size_test_scores.append(test_score)\n",
    "    train_scores.append(size_train_scores)\n",
    "    test_scores.append(size_test_scores)\n",
    "    print(\"\")\n",
    "\n",
    "train_scores = np.array(train_scores)\n",
    "test_scores = np.array(test_scores)\n",
    "latent_sizes = np.array(latent_sizes)"
   ]
  },
  {
   "cell_type": "code",
   "execution_count": 4,
   "metadata": {},
   "outputs": [
    {
     "data": {
      "image/png": "[encoded data removed]",
      "text/plain": [
       "<Figure size 360x288 with 1 Axes>"
      ]
     },
     "metadata": {
      "needs_background": "light"
     },
     "output_type": "display_data"
    }
   ],
   "source": [
    "plt.figure(figsize=(5, 4), constrained_layout=True)\n",
    "\n",
    "train_loss = np.sum(train_scores, axis=2)\n",
    "test_loss = np.sum(test_scores, axis=2)\n",
    "\n",
    "plt.scatter(np.tile(np.arange(1, 11), (3, 1)).T, train_loss, s=5, c='k')\n",
    "plt.scatter(np.tile(np.arange(1, 11), (3, 1)).T, test_loss, s=5, c='k')\n",
    "plt.scatter(np.arange(1, 11), np.mean(test_loss, axis=1), c='C3')\n",
    "plt.scatter(np.arange(1, 11), np.mean(train_loss, axis=1), c='C2')\n",
    "plt.plot(np.arange(1, 11), np.mean(test_loss, axis=1), c='C3', label='Validation set')\n",
    "plt.plot(np.arange(1, 11), np.mean(train_loss, axis=1), c='C2', label='Training set')\n",
    "plt.legend()\n",
    "plt.ylabel('VAE loss function')\n",
    "plt.xlabel('Dimensionality of intrinsic latent space')\n",
    "plt.xticks(np.arange(10) + 1)\n",
    "\n",
    "plt.savefig('./figures/vae_dimensionality.pdf')"
   ]
  }
 ],
 "metadata": {
  "kernelspec": {
   "display_name": "Kyle's conda",
   "language": "python",
   "name": "kyle_conda"
  },
  "language_info": {
   "codemirror_mode": {
    "name": "ipython",
    "version": 3
   },
   "file_extension": ".py",
   "mimetype": "text/x-python",
   "name": "python",
   "nbconvert_exporter": "python",
   "pygments_lexer": "ipython3",
   "version": "3.8.6"
  }
 },
 "nbformat": 4,
 "nbformat_minor": 4
}
